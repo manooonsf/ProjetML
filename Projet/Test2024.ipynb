{
 "cells": [
  {
   "cell_type": "code",
   "execution_count": 37,
   "metadata": {},
   "outputs": [],
   "source": [
    "import pandas as pd\n",
    "import dateparser\n",
    "import numpy as np\n",
    "from datetime import timedelta"
   ]
  },
  {
   "cell_type": "code",
   "execution_count": 38,
   "metadata": {},
   "outputs": [
    {
     "name": "stderr",
     "output_type": "stream",
     "text": [
      "C:\\Users\\Manon Pesme\\AppData\\Local\\Temp\\ipykernel_3108\\2462628027.py:12: FutureWarning: A value is trying to be set on a copy of a DataFrame or Series through chained assignment using an inplace method.\n",
      "The behavior will change in pandas 3.0. This inplace method will never work because the intermediate object on which we are setting values always behaves as a copy.\n",
      "\n",
      "For example, when doing 'df[col].method(value, inplace=True)', try using 'df.method({col: value}, inplace=True)' or df[col] = df[col].method(value) instead, to perform the operation inplace on the original object.\n",
      "\n",
      "\n",
      "  df_2024['preciptype'].fillna('Rien', inplace=True)\n",
      "C:\\Users\\Manon Pesme\\AppData\\Local\\Temp\\ipykernel_3108\\2462628027.py:13: FutureWarning: A value is trying to be set on a copy of a DataFrame or Series through chained assignment using an inplace method.\n",
      "The behavior will change in pandas 3.0. This inplace method will never work because the intermediate object on which we are setting values always behaves as a copy.\n",
      "\n",
      "For example, when doing 'df[col].method(value, inplace=True)', try using 'df.method({col: value}, inplace=True)' or df[col] = df[col].method(value) instead, to perform the operation inplace on the original object.\n",
      "\n",
      "\n",
      "  df_2024['visibility'].fillna(0, inplace=True)\n",
      "C:\\Users\\Manon Pesme\\AppData\\Local\\Temp\\ipykernel_3108\\2462628027.py:14: FutureWarning: A value is trying to be set on a copy of a DataFrame or Series through chained assignment using an inplace method.\n",
      "The behavior will change in pandas 3.0. This inplace method will never work because the intermediate object on which we are setting values always behaves as a copy.\n",
      "\n",
      "For example, when doing 'df[col].method(value, inplace=True)', try using 'df.method({col: value}, inplace=True)' or df[col] = df[col].method(value) instead, to perform the operation inplace on the original object.\n",
      "\n",
      "\n",
      "  df_2024['severerisk'].fillna(0, inplace=True)\n"
     ]
    }
   ],
   "source": [
    "bdd2024 = pd.read_csv('chavannes-près-renens 2024-01-01 to 2024-05-31.csv')\n",
    "\n",
    "df_2024 = bdd2024.copy()\n",
    "\n",
    "df_2024=pd.DataFrame(df_2024)\n",
    "\n",
    "df_2024['datetime']=pd.to_datetime(df_2024['datetime'])\n",
    "df_2024=df_2024.drop(columns=['name','feelslikemax','feelslikemin','windgust','uvindex','icon','sunrise','sunset','moonphase','stations'])\n",
    "df_2024['Weekend']=df_2024['datetime'].dt.dayofweek // 5\n",
    "df_2024['Weekend']=df_2024['Weekend'].astype(str)\n",
    "df_2024['Precip_last_7D'] = df_2024.rolling(window=\"7D\", on='datetime')['precip'].sum()\n",
    "df_2024['preciptype'].fillna('Rien', inplace=True)\n",
    "df_2024['visibility'].fillna(0, inplace=True)\n",
    "df_2024['severerisk'].fillna(0, inplace=True)"
   ]
  },
  {
   "cell_type": "code",
   "execution_count": 39,
   "metadata": {},
   "outputs": [],
   "source": [
    "hol = pd.read_excel('Vacances_scolaires.xlsx')\n",
    "def check_holidays(datetime):\n",
    "    return any(start_date <= datetime <= end_date for start_date, end_date in zip(hol['start_date'], hol['end_date']))\n",
    "\n",
    "# Apply the function to each datetime in 'bdd_original['datetime']'\n",
    "df_2024['holidays'] = df_2024['datetime'].apply(check_holidays).astype(int)"
   ]
  }
 ],
 "metadata": {
  "kernelspec": {
   "display_name": "Python 3",
   "language": "python",
   "name": "python3"
  },
  "language_info": {
   "codemirror_mode": {
    "name": "ipython",
    "version": 3
   },
   "file_extension": ".py",
   "mimetype": "text/x-python",
   "name": "python",
   "nbconvert_exporter": "python",
   "pygments_lexer": "ipython3",
   "version": "3.12.2"
  }
 },
 "nbformat": 4,
 "nbformat_minor": 2
}
